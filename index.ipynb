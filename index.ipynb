{
 "cells": [
  {
   "cell_type": "markdown",
   "source": [
    "Instructions\n",
    "1. We are looking to see how you approach solving data science problems. The key for us is to figure out how you learn, not whether you can or cannot complete a task, so don't worry if you don't finish.\n",
    "\n",
    "2. For an example of what we are looking for, please open up \"example.png\". Example.png is the instructor solution, but you do not have to have the exact same solution.\n",
    "\n",
    "3. The data you'll be using is inside the current directory, under the name “run.csv”. \"run.csv\" is a dataset with timestamps, longitude, latitude, and heartrate. You'll notice that timestamps are every second.\n",
    "\n",
    "4. We would like you to plot the data with the y axis as heart rate and the x axis being the time (not the timestamp, but hours and minutes).\n",
    "\n",
    "5. Plot a line plot of the mean heart rate over a window of 5 minutes with a minimum period of 1. The general idea is to smooth out a plot of datapoints into a line."
   ],
   "metadata": {
    "collapsed": false
   }
  },
  {
   "cell_type": "code",
   "execution_count": 1,
   "outputs": [
    {
     "name": "stdout",
     "output_type": "stream",
     "text": [
      "Hello World\n"
     ]
    }
   ],
   "source": [
    "#type your solution here\n",
    "\n",
    "print('Hello World')"
   ],
   "metadata": {
    "collapsed": false,
    "pycharm": {
     "name": "#%%\n"
    }
   }
  }
 ],
 "metadata": {
  "kernelspec": {
   "display_name": "Python 3",
   "language": "python",
   "name": "python3"
  },
  "language_info": {
   "codemirror_mode": {
    "name": "ipython",
    "version": 3
   },
   "file_extension": ".py",
   "mimetype": "text/x-python",
   "name": "python",
   "nbconvert_exporter": "python",
   "pygments_lexer": "ipython3",
   "version": "3.7.6"
  }
 },
 "nbformat": 4,
 "nbformat_minor": 4
}