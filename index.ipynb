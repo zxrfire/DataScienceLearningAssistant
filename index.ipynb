{
 "cells": [
  {
   "cell_type": "markdown",
   "source": [
    "Instructions\n",
    "1.\tWe are looking how you approach solving data science problems, so do not worry if you do not solve the problem in its entirety.\n",
    "\n",
    "2.\tThe data is inside the folder, under the name “run.csv”. \"run.csv\" is a series of data with timestamps, longitude, latitude, timestamp, and heartrate. You'll notice that timestamps are every second.\n",
    "\n",
    "3.\tWe would like you to set the y axis as heart rate and the x axis being the time (not the timestamp, but human readable time) in the final plot.\n",
    "\n",
    "4.\tTo fill in null/missing values in the data, please take the last valid datapoint before the missing data and forward that value in place of the missing data until you reach the next valid datapoint\n",
    "\n",
    "5.\tPlot the mean heart rate over a window of 5 minutes with a minimum period of 1"
   ],
   "metadata": {
    "collapsed": false
   }
  },
  {
   "cell_type": "code",
   "execution_count": 2,
   "outputs": [
    {
     "name": "stdout",
     "output_type": "stream",
     "text": [
      "Hello World\n"
     ]
    }
   ],
   "source": [
    "#type your solution here\n",
    "\n",
    "print('Hello World')"
   ],
   "metadata": {
    "collapsed": false,
    "pycharm": {
     "name": "#%%\n"
    }
   }
  }
 ],
 "metadata": {
  "kernelspec": {
   "display_name": "Python 3",
   "language": "python",
   "name": "python3"
  },
  "language_info": {
   "codemirror_mode": {
    "name": "ipython",
    "version": 3
   },
   "file_extension": ".py",
   "mimetype": "text/x-python",
   "name": "python",
   "nbconvert_exporter": "python",
   "pygments_lexer": "ipython3",
   "version": "3.7.6"
  }
 },
 "nbformat": 4,
 "nbformat_minor": 4
}