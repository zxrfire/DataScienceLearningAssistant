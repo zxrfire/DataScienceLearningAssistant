{
 "cells": [
  {
   "cell_type": "markdown",
   "source": [
    "Instructions\n",
    "1. We are looking how you approach solving data science problems, and we are not looking to see if you can or cannot solve problem in its entirety.\n",
    "\n",
    "2. For an example of what we are looking for, please open up \"example.png\". You'll notice that example.png uses a different dataset, but the general idea is to smooth out a plot of datapoints into a line.\n",
    "\n",
    "3. A list of installed libraries is inside requirements.txt, but you do not have to use all of them to complete the task.\n",
    "\n",
    "4. The data you'll be using is inside the current directory, under the name “run.csv”. \"run.csv\" is a dataset with timestamps, longitude, latitude, timestamp, and heartrate. You'll notice that timestamps are every second.\n",
    "\n",
    "5. We would like you to plot the data with the y axis as heart rate and the x axis being the time (not the timestamp, but human readable time).\n",
    "\n",
    "6. To fill in null/missing values in the data (if they exist), please take the last valid datapoint before the missing data and forward that value in place of the missing data until you reach the next valid datapoint\n",
    "\n",
    "7. Plot the mean heart rate over a window of 5 minutes with a minimum period of 1\n"
   ],
   "metadata": {
    "collapsed": false
   }
  },
  {
   "cell_type": "code",
   "execution_count": 1,
   "outputs": [
    {
     "name": "stdout",
     "output_type": "stream",
     "text": [
      "Hello World\n"
     ]
    }
   ],
   "source": [
    "#type your solution here\n",
    "\n",
    "print('Hello World')"
   ],
   "metadata": {
    "collapsed": false,
    "pycharm": {
     "name": "#%%\n"
    }
   }
  }
 ],
 "metadata": {
  "kernelspec": {
   "display_name": "Python 3",
   "language": "python",
   "name": "python3"
  },
  "language_info": {
   "codemirror_mode": {
    "name": "ipython",
    "version": 3
   },
   "file_extension": ".py",
   "mimetype": "text/x-python",
   "name": "python",
   "nbconvert_exporter": "python",
   "pygments_lexer": "ipython3",
   "version": "3.7.6"
  }
 },
 "nbformat": 4,
 "nbformat_minor": 4
}