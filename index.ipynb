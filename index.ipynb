{
 "cells": [
  {
   "cell_type": "markdown",
   "source": [
    "Instructions\n",
    "1.\tWe are looking to see if you can solve a data science problem, in particular if you can successfully downsample a time series problem and provide aggregates using pandas and numpy.\n",
    "\n",
    "2.\tThe data is inside the folder, under the name “run.csv”.\n",
    "\n",
    "3.\tWe would like you to resample the data with 15 second bins, with the y axis being heart rate and x axis being the time (not the timestamp, but human readable time).\n",
    "\n",
    "4.\tFor null/missing values in the data, please fill by forwarding the last valid datapoint to the next valid datapoint\n",
    "\n",
    "5.\tPerform a rolling window calculation on the data heart rate in bins of 5 minutes with a minimum period of 1 and plot the mean of the resulting data points"
   ],
   "metadata": {
    "collapsed": false
   }
  },
  {
   "cell_type": "code",
   "execution_count": 2,
   "outputs": [
    {
     "name": "stdout",
     "output_type": "stream",
     "text": [
      "Hello World\n"
     ]
    }
   ],
   "source": [
    "#type your solution here\n",
    "\n",
    "print('Hello World')"
   ],
   "metadata": {
    "collapsed": false,
    "pycharm": {
     "name": "#%%\n"
    }
   }
  }
 ],
 "metadata": {
  "kernelspec": {
   "display_name": "Python 3",
   "language": "python",
   "name": "python3"
  },
  "language_info": {
   "codemirror_mode": {
    "name": "ipython",
    "version": 3
   },
   "file_extension": ".py",
   "mimetype": "text/x-python",
   "name": "python",
   "nbconvert_exporter": "python",
   "pygments_lexer": "ipython3",
   "version": "3.7.6"
  }
 },
 "nbformat": 4,
 "nbformat_minor": 4
}